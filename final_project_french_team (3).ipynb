{
  "cells": [
    {
      "cell_type": "markdown",
      "source": [
        "## Ready to be used ! \n",
        "You can run everything from scratch. We could not let all the vizualisations displayed, it was too heavy for Github \n",
        "\n",
        ":'-(\n",
        "\n",
        "Hope you'll enjoy the project !\n",
        "\n",
        "*French Team*"
      ],
      "metadata": {
        "id": "uDd_sz0jx8SX"
      }
    },
    {
      "cell_type": "code",
      "execution_count": 1,
      "metadata": {
        "id": "sSOrFlT8YaGc"
      },
      "outputs": [],
      "source": [
        "import pandas as pd\n",
        "import altair as alt\n",
        "from altair import expr, datum\n",
        "from vega_datasets import data\n",
        "import datetime as dt\n",
        "#import streamlit as st\n"
      ]
    },
    {
      "cell_type": "code",
      "execution_count": 2,
      "metadata": {
        "colab": {
          "base_uri": "https://localhost:8080/"
        },
        "id": "M4QAUX1ZYaaZ",
        "outputId": "bd3ce4f4-75cd-4abf-8a89-72948d35243d"
      },
      "outputs": [
        {
          "output_type": "stream",
          "name": "stdout",
          "text": [
            "Mounted at /content/drive\n"
          ]
        }
      ],
      "source": [
        "# connect gdrive\n",
        "\n",
        "from google.colab import drive\n",
        "drive.mount('/content/drive')"
      ]
    },
    {
      "cell_type": "code",
      "execution_count": null,
      "metadata": {
        "id": "TQVkiXuEYf-R"
      },
      "outputs": [],
      "source": [
        "# importing our dataset\n",
        "\n",
        "df = pd.read_csv('/content/drive/Shareddrives/Data vizualisation/top-2018-cleaned1.csv')\n",
        "df.head()"
      ]
    },
    {
      "cell_type": "code",
      "source": [
        "# we only focus on year 2018\n",
        "\n",
        "df = df[df['published_date'].str.contains(\"2018\")].reset_index(drop=True)\n",
        "df"
      ],
      "metadata": {
        "id": "bZV4n9gKBrDG"
      },
      "execution_count": null,
      "outputs": []
    },
    {
      "cell_type": "code",
      "source": [
        "# replace NA by not available in category\n",
        "df['category'] = df['category'].fillna('Not available', inplace = False)"
      ],
      "metadata": {
        "id": "uOpc8bB1dkV9"
      },
      "execution_count": 46,
      "outputs": []
    },
    {
      "cell_type": "code",
      "execution_count": null,
      "metadata": {
        "id": "rpByFP7RbO9m"
      },
      "outputs": [],
      "source": [
        "# we convert to datetime our published_date column and create \n",
        "# columns indicating month only for the slider\n",
        "\n",
        "df['published_date'] = pd.to_datetime(df['published_date'])\n",
        "df['month'] = df['published_date'].dt.to_period('M').astype(str)\n",
        "df['month'] = pd.to_datetime(df['month'])\n",
        "df['month_int'] = [df['month'][x].month for x in range(len(df['month']))]\n",
        "df['year_int'] = [df['month'][x].year for x in range(len(df['month']))]"
      ]
    },
    {
      "cell_type": "code",
      "execution_count": null,
      "metadata": {
        "id": "Mi2aY0rwaMVV"
      },
      "outputs": [],
      "source": [
        "# enable Altair to display the chart with > 5000 rows of data\n",
        "\n",
        "alt.data_transformers.disable_max_rows()"
      ]
    },
    {
      "cell_type": "code",
      "source": [
        "df.head()"
      ],
      "metadata": {
        "id": "DMjN8a2R-Y0Y"
      },
      "execution_count": null,
      "outputs": []
    },
    {
      "cell_type": "code",
      "source": [
        "# GRAPH 1\n",
        "\n",
        "click_domain = alt.selection_multi(encodings=['color']) \n",
        "daily_publi_per_domain = alt.Chart(df).mark_point().encode(\n",
        "    x='published_date:T',\n",
        "    y='fb_engagement:Q',\n",
        "    color='Domain name:N',\n",
        "    tooltip=['title:N', 'fb_engagement:Q', 'category:N'] \n",
        ").interactive().add_selection(click_domain).transform_filter(click_domain)\n",
        "\n",
        "daily_publi_per_domain\n",
        "\n",
        "# GRAPH 2\n",
        "\n",
        "fake_news_daily = alt.Chart(df).mark_line().encode(\n",
        "    x='published_date:T',\n",
        "    y=alt.Y('count(titre):Q'),\n",
        "    tooltip=['published_date:T', 'count(titre):Q', 'sum(fb_engagement):Q']\n",
        ").interactive()\n",
        "\n",
        "fake_news_daily | daily_publi_per_domain"
      ],
      "metadata": {
        "id": "eiJCy91lKO3I"
      },
      "execution_count": null,
      "outputs": []
    },
    {
      "cell_type": "code",
      "source": [
        "# top 10 fake news by category\n",
        "df_top10_engagement_category = df.groupby(['category','title'])['fb_engagement'].sum().reset_index()\n",
        "df_top10_engagement_category['Rank'] = df_top10_engagement_category.groupby('category')['fb_engagement'].rank('dense', ascending = False)\n",
        "df_top10_engagement_category = df_top10_engagement_category[df_top10_engagement_category['Rank'] <= 10]\n",
        "df_top10_engagement_category = df_top10_engagement_category.sort_values(['category','Rank'], ascending = False)\n",
        "\n",
        "# adding a select to choose the category\n",
        "all_category = df['category'].unique()\n",
        "dropdown_cat = alt.binding_select(options= all_category)\n",
        "select_category = alt.selection_single(fields=['category'], bind = dropdown_cat, name = 'Selector')\n",
        "\n",
        "# barchart top 10 by cat\n",
        "top10_articles_per_cat = alt.Chart(df_top10_engagement_category).mark_bar().encode(\n",
        "    x=alt.X('fb_engagement:Q'),\n",
        "    y=alt.Y('title:N',sort='-x'),\n",
        "    color='category:N',\n",
        "    tooltip='fb_engagement:Q'\n",
        ").interactive().add_selection(\n",
        "    select_category\n",
        ").transform_filter(\n",
        "    select_category\n",
        ")\n",
        "\n",
        "top10_articles_per_cat"
      ],
      "metadata": {
        "id": "gJ6yUjLOHWnF"
      },
      "execution_count": null,
      "outputs": []
    },
    {
      "cell_type": "code",
      "source": [
        "# adding a select to choose the origin\n",
        "all_origin = df['Origin'].unique()\n",
        "dropdown_origin = alt.binding_select(options= all_origin)\n",
        "select_origin = alt.selection_single(fields=['Origin'], bind = dropdown_origin, name = 'Choose')\n",
        "\n",
        "# Scatter plot with tooltip and interactive()\n",
        "repartition_of_categ_per_origin = alt.Chart(df).mark_bar().encode(\n",
        "    x=alt.X('Origin:N',sort ='-y'),\n",
        "    y=alt.Y('count(category):Q'),\n",
        "    color='category:N',\n",
        "    tooltip=['count(category):Q', 'category:N']\n",
        ").interactive().add_selection(\n",
        "    select_origin\n",
        ").transform_filter(\n",
        "    select_origin\n",
        ")\n",
        "\n",
        "repartition_of_categ_per_origin"
      ],
      "metadata": {
        "id": "BnTiqwkBT6IW"
      },
      "execution_count": null,
      "outputs": []
    },
    {
      "cell_type": "code",
      "source": [
        "# creating the slider\n",
        "\n",
        "month_slider = alt.binding_range(min=1, max=12, step=1)\n",
        "slider_selection_month = alt.selection_single(bind=month_slider, fields=['month_int'], name='slider')\n",
        "click_cat_orig = alt.selection_multi(encodings=['color'])\n",
        "\n",
        "# fake_news_daily\n",
        "fake_news_daily = alt.Chart(df).mark_point().encode(\n",
        "    x='published_date:T',\n",
        "    y=alt.Y('count(titre):Q'),\n",
        "    color=alt.Color('sum(fb_engagement)',scale=alt.Scale(scheme='goldred')),\n",
        "    tooltip=['published_date:T', 'sum(fb_engagement):Q']\n",
        ").add_selection(\n",
        "    slider_selection_month\n",
        ").transform_filter(\n",
        "    slider_selection_month)\n",
        "#.transform_filter(brush)\n",
        "\n",
        "a = fake_news_daily.add_selection(click_cat_orig).transform_filter(click_cat_orig)\n",
        "\n",
        "# engagement_per_origin\n",
        "\n",
        "# building a specific df to get rank by origin by month top 10 \n",
        "df_engagement_month_origin = df.groupby(['Origin','month_int', 'category'])['fb_engagement'].sum().reset_index()\n",
        "df_engagement_month_origin['Rank'] = df_engagement_month_origin.groupby('month_int')['fb_engagement'].rank('dense', ascending = False)\n",
        "df_engagement_month_origin = df_engagement_month_origin[df_engagement_month_origin['Rank'] <= 10]\n",
        "df_engagement_month_origin = df_engagement_month_origin.sort_values('month_int')\n",
        "\n",
        "# plotting it \n",
        "engagement_per_origin = alt.Chart(df_engagement_month_origin).mark_bar().encode(\n",
        "    x='sum(fb_engagement):Q',\n",
        "    y=alt.Y('Origin:N',sort='-x'),\n",
        "    color='Origin:N',\n",
        "    tooltip='sum(fb_engagement):Q'\n",
        ").interactive().add_selection(click_cat_orig).transform_filter(click_cat_orig)\n",
        "\n",
        "b = engagement_per_origin.add_selection(slider_selection_month).transform_filter(\n",
        "    slider_selection_month)\n",
        "\n",
        "# engagement_per_category\n",
        "\n",
        "# building a specific df to get rank by category by month top 10 \n",
        "df_engagement_month_category = df.groupby(['category','month_int', 'Origin'])['fb_engagement'].sum().reset_index()\n",
        "df_engagement_month_category['Rank'] = df_engagement_month_category.groupby('month_int')['fb_engagement'].rank('dense', ascending = False)\n",
        "df_engagement_month_category = df_engagement_month_category[df_engagement_month_category['Rank'] <= 10]\n",
        "df_engagement_month_category = df_engagement_month_category.sort_values('month_int')\n",
        "\n",
        "# plotting it \n",
        "engagement_per_category = alt.Chart(df_engagement_month_category).mark_bar().encode(\n",
        "    x='sum(fb_engagement):Q',\n",
        "    y=alt.Y('category:N',sort='-x'),\n",
        "    color = 'category:N',\n",
        "    tooltip='sum(fb_engagement):Q'\n",
        ").interactive().add_selection(click_cat_orig).transform_filter(click_cat_orig)\n",
        "\n",
        "engagement_per_category\n",
        "\n",
        "c = engagement_per_category.add_selection(slider_selection_month).transform_filter(\n",
        "    slider_selection_month)\n",
        "\n",
        "\n",
        "a | b | c"
      ],
      "metadata": {
        "id": "Uw1btTh8K51s"
      },
      "execution_count": null,
      "outputs": []
    },
    {
      "cell_type": "code",
      "source": [
        "nb_word_engagement_cat = alt.Chart(df).mark_bar().encode(\n",
        "    x=alt.X('Lenght of title:Q'),\n",
        "    y=alt.Y('mean(fb_engagement):Q',sort='x'),\n",
        "    color = alt.Color('mean(fb_engagement):Q',scale=alt.Scale(scheme='goldred')),\n",
        "    tooltip=['mean(fb_engagement):Q', 'count(titre):Q']\n",
        ").interactive().add_selection(\n",
        "    select_category\n",
        ").transform_filter(\n",
        "    select_category\n",
        ")\n",
        "\n",
        "nb_word_engagement_origin = alt.Chart(df).mark_bar().encode(\n",
        "    x=alt.X('Lenght of title:Q'),\n",
        "    y=alt.Y('mean(fb_engagement):Q',sort='x'),\n",
        "    color = alt.Color('mean(fb_engagement):Q',scale=alt.Scale(scheme='goldred')),\n",
        "    tooltip=['mean(fb_engagement):Q', 'count(titre):Q']\n",
        ").interactive().add_selection(\n",
        "    select_origin\n",
        ").transform_filter(\n",
        "    select_origin\n",
        ")\n",
        "\n",
        "nb_word_engagement_cat & nb_word_engagement_origin\n",
        "\n"
      ],
      "metadata": {
        "id": "saOl72jARPaW"
      },
      "execution_count": null,
      "outputs": []
    },
    {
      "cell_type": "code",
      "source": [
        "click_day_of_week = alt.selection_multi(encodings=['color'])\n",
        "daysofweek = [\"MONDAY\", \"TUESDAY\", \"WEDNESDAY\", \"THURSDAY\", \"FRIDAY\", \"SATURDAY\", \"SUNDAY\"]\n",
        "\n",
        "fake_news_DoW_cat = alt.Chart(df).mark_point().encode(\n",
        "    x=alt.X('Day of the week:N',sort=daysofweek),\n",
        "    y=alt.Y('count(titre):Q'),\n",
        "    color=alt.Color('Day of the week:N', sort = daysofweek),\n",
        "    tooltip=['count(titre):Q','sum(fb_engagement):Q']\n",
        ").interactive().add_selection(click_day_of_week).interactive().add_selection(\n",
        "    select_category\n",
        ").transform_filter(\n",
        "    select_category\n",
        ")\n",
        "\n",
        "\n",
        "fake_news_DoW_org = alt.Chart(df).mark_point().encode(\n",
        "    x=alt.X('Day of the week:N',sort=daysofweek),\n",
        "    y=alt.Y('count(titre):Q'),\n",
        "    color=alt.Color('Day of the week:N', sort = daysofweek),\n",
        "    tooltip=['count(titre):Q','sum(fb_engagement):Q']\n",
        ").interactive().add_selection(click_day_of_week).interactive().add_selection(\n",
        "    select_origin\n",
        ").transform_filter(\n",
        "    select_origin\n",
        ")\n",
        "\n",
        "fake_news_DoW_cat & fake_news_DoW_org"
      ],
      "metadata": {
        "id": "vSpqeapx7KnO"
      },
      "execution_count": null,
      "outputs": []
    },
    {
      "cell_type": "code",
      "source": [
        "# not used for the project\n",
        "\n",
        "brush_weekday = alt.selection_interval(encodings=['x'])\n",
        "\n",
        "nb_word_publication = alt.Chart(df).mark_bar().encode(\n",
        "    x=alt.X('Lenght of title:Q'),\n",
        "    y=alt.Y('count(title):Q',sort='x'),\n",
        "    tooltip='count(title):Q'\n",
        ").interactive().add_selection(brush_weekday).transform_filter(brush_weekday)\n",
        "\n",
        "nb_word_engagement_2 = alt.Chart(df).mark_area().encode(\n",
        "    x=alt.X('Lenght of title:Q'),\n",
        "    y=alt.Y('sum(fb_engagement):Q'),\n",
        "    color=alt.Color('Day of the week:N', sort = daysofweek),\n",
        "    tooltip='sum(fb_engagement):Q'\n",
        ").interactive().add_selection(brush_weekday).transform_filter(brush_weekday)\n",
        "\n",
        "nb_word_publication & nb_word_engagement_2 "
      ],
      "metadata": {
        "id": "RNjvA0BAg9is"
      },
      "execution_count": null,
      "outputs": []
    }
  ],
  "metadata": {
    "colab": {
      "collapsed_sections": [],
      "name": "final_project_french_team.ipynb",
      "provenance": []
    },
    "kernelspec": {
      "display_name": "Python 3",
      "name": "python3"
    },
    "language_info": {
      "name": "python"
    }
  },
  "nbformat": 4,
  "nbformat_minor": 0
}